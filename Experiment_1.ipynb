{
  "nbformat": 4,
  "nbformat_minor": 0,
  "metadata": {
    "colab": {
      "provenance": []
    },
    "kernelspec": {
      "name": "python3",
      "display_name": "Python 3"
    },
    "language_info": {
      "name": "python"
    }
  },
  "cells": [
    {
      "cell_type": "code",
      "source": [
        "Aim: To write a program to solve 8 Queens problem"
      ],
      "metadata": {
        "id": "s9966HVPV91O"
      },
      "execution_count": null,
      "outputs": []
    },
    {
      "cell_type": "code",
      "execution_count": null,
      "metadata": {
        "colab": {
          "base_uri": "https://localhost:8080/"
        },
        "id": "Ivdcy2ocMHFq",
        "outputId": "47dcca22-c073-4650-d7ab-d404e52c8f99"
      },
      "outputs": [
        {
          "output_type": "stream",
          "name": "stdout",
          "text": [
            "[[1, 0, 0, 0, 0, 0, 0, 0], [0, 0, 0, 0, 0, 0, 1, 0], [0, 0, 0, 0, 1, 0, 0, 0], [0, 0, 0, 0, 0, 0, 0, 1], [0, 1, 0, 0, 0, 0, 0, 0], [0, 0, 0, 1, 0, 0, 0, 0], [0, 0, 0, 0, 0, 1, 0, 0], [0, 0, 1, 0, 0, 0, 0, 0]]\n"
          ]
        }
      ],
      "source": [
        "N = 8 # (size of the chessboard)\n",
        "\n",
        "def solveNQueens(board, col):\n",
        "\tif col == N:\n",
        "\t\tprint(board)\n",
        "\t\treturn True\n",
        "\tfor i in range(N):\n",
        "\t\tif isSafe(board, i, col):\n",
        "\t\t\tboard[i][col] = 1\n",
        "\t\t\tif solveNQueens(board, col + 1):\n",
        "\t\t\t\treturn True\n",
        "\t\t\tboard[i][col] = 0\n",
        "\treturn False\n",
        "\n",
        "def isSafe(board, row, col):\n",
        "\tfor x in range(col):\n",
        "\t\tif board[row][x] == 1:\n",
        "\t\t\treturn False\n",
        "\tfor x, y in zip(range(row, -1, -1), range(col, -1, -1)):\n",
        "\t\tif board[x][y] == 1:\n",
        "\t\t\treturn False\n",
        "\tfor x, y in zip(range(row, N, 1), range(col, -1, -1)):\n",
        "\t\tif board[x][y] == 1:\n",
        "\t\t\treturn False\n",
        "\treturn True\n",
        "\n",
        "board = [[0 for x in range(N)] for y in range(N)]\n",
        "if not solveNQueens(board, 0):\n",
        "\tprint(\"No solution found\")\n"
      ]
    },
    {
      "cell_type": "code",
      "source": [
        "Result:\n",
        "  Hence, The program is executed successfully."
      ],
      "metadata": {
        "id": "zCn9BOMbWDp7"
      },
      "execution_count": null,
      "outputs": []
    }
  ]
}