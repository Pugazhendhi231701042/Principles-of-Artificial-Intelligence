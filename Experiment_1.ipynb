{
  "nbformat": 4,
  "nbformat_minor": 0,
  "metadata": {
    "colab": {
      "provenance": []
    },
    "kernelspec": {
      "name": "python3",
      "display_name": "Python 3"
    },
    "language_info": {
      "name": "python"
    }
  },
  "cells": [
    {
      "cell_type": "code",
      "source": [
        "Aim: To write a program to solve 8 Queens problem"
      ],
      "metadata": {
        "id": "s9966HVPV91O"
      },
      "execution_count": null,
      "outputs": []
    },
    {
      "cell_type": "code",
      "source": [
        "def is_safe(board, row, col):\n",
        "    for i in range(col):\n",
        "        if board[row][i] == 1:\n",
        "            return False\n",
        "    for i, j in zip(range(row, -1, -1), range(col, -1, -1)):\n",
        "        if board[i][j] == 1:\n",
        "            return False\n",
        "    for i, j in zip(range(row, len(board), 1), range(col, -1, -1)):\n",
        "        if board[i][j] == 1:\n",
        "            return False\n",
        "    return True\n",
        "\n",
        "def solve_n_queens(board, col):\n",
        "    if col >= len(board):\n",
        "        return True\n",
        "    for i in range(len(board)):\n",
        "        if is_safe(board, i, col):\n",
        "            board[i][col] = 1\n",
        "            if solve_n_queens(board, col + 1):\n",
        "                return True\n",
        "            board[i][col] = 0\n",
        "    return False\n",
        "\n",
        "def print_solution(board):\n",
        "    for row in board:\n",
        "        print(\" \".join(str(cell) for cell in row))\n",
        "\n",
        "def solve_8_queens():\n",
        "    board = [[0 for _ in range(8)] for _ in range(8)]\n",
        "    if not solve_n_queens(board, 0):\n",
        "        print(\"No solution exists\")\n",
        "        return\n",
        "    print_solution(board)\n",
        "\n",
        "solve_8_queens()"
      ],
      "metadata": {
        "colab": {
          "base_uri": "https://localhost:8080/"
        },
        "id": "BKnW011kYxj-",
        "outputId": "d585ac62-41cc-4903-a142-47846c061994"
      },
      "execution_count": 1,
      "outputs": [
        {
          "output_type": "stream",
          "name": "stdout",
          "text": [
            "1 0 0 0 0 0 0 0\n",
            "0 0 0 0 0 0 1 0\n",
            "0 0 0 0 1 0 0 0\n",
            "0 0 0 0 0 0 0 1\n",
            "0 1 0 0 0 0 0 0\n",
            "0 0 0 1 0 0 0 0\n",
            "0 0 0 0 0 1 0 0\n",
            "0 0 1 0 0 0 0 0\n"
          ]
        }
      ]
    },
    {
      "cell_type": "code",
      "source": [
        "Result:\n",
        "  Hence, The program is executed successfully."
      ],
      "metadata": {
        "id": "zCn9BOMbWDp7"
      },
      "execution_count": null,
      "outputs": []
    }
  ]
}